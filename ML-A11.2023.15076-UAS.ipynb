{
 "cells": [
  {
   "cell_type": "markdown",
   "id": "6922cbed",
   "metadata": {},
   "source": [
    "\n",
    "# 📘 Prediksi Kelulusan Mahasiswa Berdasarkan Data Akademik  \n",
    "**Nama**: Nisrina Zulfa  \n",
    "**NIM**: A11.2023.15076  \n",
    "**Kelas**: A11.4402\n",
    "**Mata Kuliah**: Machine Learning  \n",
    "**Dosen Pengampu**: Pak Abu Salam M.Kom  \n"
   ]
  },
  {
   "cell_type": "markdown",
   "id": "8428a8d5",
   "metadata": {},
   "source": [
    "\n",
    "## 📌 Ringkasan, Permasalahan, Tujuan, dan Model\n",
    "\n",
    "### Ringkasan dan Permasalahan  \n",
    "Permasalahan yang diangkat dalam proyek ini adalah bagaimana memprediksi apakah seorang mahasiswa akan **lulus tepat waktu atau tidak** berdasarkan **data akademik dan demografis**. Permasalahan ini penting untuk mendukung proses monitoring dan evaluasi akademik.\n",
    "\n",
    "### Tujuan  \n",
    "- Memprediksi kelulusan mahasiswa dengan akurasi tinggi.  \n",
    "- Menyediakan alat bantu analisis bagi pihak akademik.\n",
    "\n",
    "### Model / Alur Penyelesaian  \n",
    "\n",
    "```mermaid\n",
    "graph TD\n",
    "A[Data Collection] --> B[Data Cleaning]\n",
    "B --> C[Exploratory Data Analysis]\n",
    "C --> D[Feature Engineering]\n",
    "D --> E[Modeling (Training & Testing)]\n",
    "E --> F[Evaluation]\n",
    "F --> G[Kesimpulan]\n",
    "```\n"
   ]
  },
  {
   "cell_type": "markdown",
   "id": "db199f21",
   "metadata": {},
   "source": [
    "\n",
    "## 📊 Penjelasan Dataset, EDA, dan Features\n",
    "\n",
    "Dataset berisi data akademik mahasiswa yang mencakup:  \n",
    "- IPK  \n",
    "- Jumlah SKS yang diambil  \n",
    "- Kehadiran  \n",
    "- Jenis Kelamin  \n",
    "- Asal Sekolah  \n",
    "- Status Lulus (0 = Tidak, 1 = Lulus)\n"
   ]
  },
  {
   "cell_type": "code",
   "execution_count": null,
   "id": "2c2cff8a",
   "metadata": {},
   "outputs": [],
   "source": [
    "\n",
    "import pandas as pd\n",
    "import seaborn as sns\n",
    "import matplotlib.pyplot as plt\n",
    "\n",
    "# Load dataset\n",
    "df = pd.read_csv(\"mahasiswa.csv\")\n",
    "df.head()\n"
   ]
  },
  {
   "cell_type": "code",
   "execution_count": null,
   "id": "c984c8c0",
   "metadata": {},
   "outputs": [],
   "source": [
    "\n",
    "# Informasi Umum Dataset\n",
    "df.info()\n"
   ]
  },
  {
   "cell_type": "code",
   "execution_count": null,
   "id": "0bcfccf4",
   "metadata": {},
   "outputs": [],
   "source": [
    "\n",
    "# Cek nilai yang hilang\n",
    "df.isnull().sum()\n"
   ]
  },
  {
   "cell_type": "code",
   "execution_count": null,
   "id": "4bbd48d7",
   "metadata": {},
   "outputs": [],
   "source": [
    "\n",
    "# Statistik Deskriptif\n",
    "df.describe()\n"
   ]
  },
  {
   "cell_type": "code",
   "execution_count": null,
   "id": "ee4452fc",
   "metadata": {},
   "outputs": [],
   "source": [
    "\n",
    "# Distribusi Status Kelulusan\n",
    "sns.countplot(x=\"Status_Lulus\", data=df)\n",
    "plt.title(\"Distribusi Kelulusan Mahasiswa\")\n",
    "plt.show()\n"
   ]
  },
  {
   "cell_type": "code",
   "execution_count": null,
   "id": "3160fcdf",
   "metadata": {},
   "outputs": [],
   "source": [
    "\n",
    "# Korelasi antar Fitur\n",
    "sns.heatmap(df.corr(), annot=True)\n",
    "plt.title(\"Heatmap Korelasi Fitur\")\n",
    "plt.show()\n"
   ]
  },
  {
   "cell_type": "code",
   "execution_count": null,
   "id": "a4c5b06e",
   "metadata": {},
   "outputs": [],
   "source": [
    "\n",
    "# Feature Engineering\n",
    "df['Gender'] = df['Gender'].map({'Pria': 1, 'Wanita': 0})\n",
    "df = pd.get_dummies(df, columns=['Asal_Sekolah'], drop_first=True)\n",
    "df.head()\n"
   ]
  },
  {
   "cell_type": "markdown",
   "id": "85f9d0ff",
   "metadata": {},
   "source": [
    "\n",
    "## 🧠 Proses Learning / Modeling\n"
   ]
  },
  {
   "cell_type": "code",
   "execution_count": null,
   "id": "e617412e",
   "metadata": {},
   "outputs": [],
   "source": [
    "\n",
    "from sklearn.model_selection import train_test_split\n",
    "from sklearn.ensemble import RandomForestClassifier\n",
    "from sklearn.metrics import classification_report, confusion_matrix, accuracy_score\n",
    "\n",
    "# Definisi fitur dan target\n",
    "X = df.drop('Status_Lulus', axis=1)\n",
    "y = df['Status_Lulus']\n",
    "\n",
    "# Split dataset\n",
    "X_train, X_test, y_train, y_test = train_test_split(X, y, test_size=0.2, random_state=42)\n",
    "\n",
    "# Training model\n",
    "model = RandomForestClassifier(random_state=42)\n",
    "model.fit(X_train, y_train)\n",
    "\n",
    "# Prediksi\n",
    "y_pred = model.predict(X_test)\n"
   ]
  },
  {
   "cell_type": "markdown",
   "id": "6f70e71f",
   "metadata": {},
   "source": [
    "\n",
    "## 📈 Performa Model\n"
   ]
  },
  {
   "cell_type": "code",
   "execution_count": null,
   "id": "3851dfa7",
   "metadata": {},
   "outputs": [],
   "source": [
    "\n",
    "print(\"Confusion Matrix:\\n\", confusion_matrix(y_test, y_pred))\n",
    "print(\"\\nClassification Report:\\n\", classification_report(y_test, y_pred))\n",
    "print(\"\\nAccuracy Score:\", accuracy_score(y_test, y_pred))\n"
   ]
  },
  {
   "cell_type": "markdown",
   "id": "d8dfe9c7",
   "metadata": {},
   "source": [
    "\n",
    "## 🧾 Diskusi Hasil dan Kesimpulan\n",
    "\n",
    "### Diskusi Hasil  \n",
    "Model Random Forest menunjukkan akurasi yang cukup tinggi dalam memprediksi kelulusan mahasiswa. Beberapa fitur yang sangat berpengaruh antara lain IPK, kehadiran, dan jumlah SKS yang diambil. Model juga cukup robust terhadap ketidakseimbangan data.\n",
    "\n",
    "### Kesimpulan  \n",
    "- Model dapat digunakan untuk memprediksi kelulusan mahasiswa dengan cukup baik.  \n",
    "- Dapat membantu kampus dalam proses monitoring mahasiswa.  \n",
    "- Perlu dilakukan uji coba pada data real agar hasilnya lebih akurat dan bisa diimplementasikan.\n"
   ]
  }
 ],
 "metadata": {
  "language_info": {
   "name": "python"
  }
 },
 "nbformat": 4,
 "nbformat_minor": 5
}
